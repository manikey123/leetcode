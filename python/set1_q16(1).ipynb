{
 "cells": [
  {
   "cell_type": "markdown",
   "metadata": {},
   "source": [
    "## Question 1"
   ]
  },
  {
   "cell_type": "markdown",
   "metadata": {},
   "source": [
    "    You are given a list of space-separated integers. Your task is to find out whether x number is present in the list. If it is found then print the fourth power of that number else print the cube of the second last number of the list.\n",
    "\n",
    "    Input\n",
    "    The first line of input is a list of space separated number\n",
    "\n",
    "    The second line of input have an integer x\n",
    "\n",
    "    Output\n",
    "    If it is found then print the fourth power of that number else print the cube of the second last number of the list.\n",
    "\n",
    "    Example\n",
    "    Input\n",
    "    1 2 3 4 5 6\n",
    "\n",
    "    7\n",
    "\n",
    "    Output\n",
    "    125"
   ]
  },
  {
   "cell_type": "markdown",
   "metadata": {},
   "source": [
    "## Solution"
   ]
  },
  {
   "cell_type": "markdown",
   "metadata": {},
   "source": [
    "## Question 2"
   ]
  },
  {
   "cell_type": "markdown",
   "metadata": {},
   "source": [
    "    You are given an input that contains space-separated integers. Your task is to create a tuple 'a' of these numbers. and print the output as follows in separate lines:\n",
    "\n",
    "    tuple a:  (1, 2, 3, 4, 5, 6)\n",
    "    length of a:  6\n",
    "    Data type of a:  <class 'tuple'>\n",
    "    Input\n",
    "    space-separated integers\n",
    "\n",
    "    Output\n",
    "    print the output as mentioned above in separated lines\n",
    "\n",
    "    Example\n",
    "    Input\n",
    "    1 2 3 4 5 6\n",
    "\n",
    "    Output\n",
    "    tuple a:  (1, 2, 3, 4, 5, 6)\n",
    "    length of a:  6\n",
    "    Data type of a:  <class 'tuple'>"
   ]
  },
  {
   "cell_type": "markdown",
   "metadata": {},
   "source": [
    "## Solution"
   ]
  },
  {
   "cell_type": "markdown",
   "metadata": {},
   "source": [
    "## Question 3"
   ]
  },
  {
   "cell_type": "markdown",
   "metadata": {},
   "source": [
    "    You are given height and a base of the triangle. Create a function that will calculate the area of the triangle.\n",
    "\n",
    "    Use: Area of triangle = 0.5 x height x base\n",
    "\n",
    "    Input\n",
    "    The first line of the input contains the float value of the height\n",
    "\n",
    "    The second line of the input contains the float value of the base\n",
    "\n",
    "    Output\n",
    "    print the area of the triangle\n",
    "\n",
    "    Example\n",
    "    input\n",
    "    3.0\n",
    "\n",
    "    4.0\n",
    "\n",
    "    Output\n",
    "    6.0"
   ]
  },
  {
   "cell_type": "markdown",
   "metadata": {},
   "source": [
    "## Solution"
   ]
  }
 ],
 "metadata": {
  "language_info": {
   "name": "python"
  }
 },
 "nbformat": 4,
 "nbformat_minor": 2
}
