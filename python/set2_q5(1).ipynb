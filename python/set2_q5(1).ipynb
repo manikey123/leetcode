{
 "cells": [
  {
   "cell_type": "markdown",
   "metadata": {},
   "source": [
    "## Question 1"
   ]
  },
  {
   "cell_type": "markdown",
   "metadata": {},
   "source": [
    "    You are given N number of lines of space separates integers. Create a Numpy array using these numbers. and slice first two rows and columns in alternate orders.\n",
    "\n",
    "    Input\n",
    "    First line of input contains N numbers which represents number of rows in the input\n",
    "\n",
    "    After that N number of lines containg space separated integers\n",
    "\n",
    "    Output\n",
    "    First two rows and alternate number of columns of the numpy array.\n",
    "\n",
    "    For Example\n",
    "    Input\n",
    "    4\n",
    "\n",
    "    1 2 3 4\n",
    "\n",
    "    5 6 7 8\n",
    "\n",
    "    9 10 11 12\n",
    "\n",
    "    13 14 15 16\n",
    "\n",
    "    Output\n",
    "    [[1 3]\n",
    "\n",
    "    [5 7]]\n",
    "\n",
    "    All column data is of object datatype.Change it to appropriate datatype and then apply logic"
   ]
  },
  {
   "cell_type": "markdown",
   "metadata": {},
   "source": [
    "## Solution"
   ]
  },
  {
   "cell_type": "markdown",
   "metadata": {},
   "source": [
    "## Question 2"
   ]
  },
  {
   "cell_type": "markdown",
   "metadata": {},
   "source": [
    "    You are given information about some people as their names, age, and gender. Create a list of dictionaries for these numbers and then create a Pandas DataFrame as 'df'.\n",
    "\n",
    "    Input\n",
    "    The first line of the input contains the names of the keys for the dictionary.\n",
    "\n",
    "    The second line of the input contains the name of the people separated by a space.\n",
    "\n",
    "    The third line of the input contains the age of the people separated by a space having an integer data type.\n",
    "\n",
    "    The fourth line of the input contains the gender of the people separated by a space.\n",
    "\n",
    "    Output\n",
    "    The Pandas DataFrame as 'df'.\n",
    "\n",
    "    Example\n",
    "    Input\n",
    "    Name Age Gender\n",
    "    Anil Sunil Kamil\n",
    "    20 21 22\n",
    "    M M F\n",
    "    Output"
   ]
  },
  {
   "cell_type": "markdown",
   "metadata": {},
   "source": [
    "## Solution"
   ]
  }
 ],
 "metadata": {
  "kernelspec": {
   "display_name": "Python 3 (ipykernel)",
   "language": "python",
   "name": "python3"
  },
  "language_info": {
   "codemirror_mode": {
    "name": "ipython",
    "version": 3
   },
   "file_extension": ".py",
   "mimetype": "text/x-python",
   "name": "python",
   "nbconvert_exporter": "python",
   "pygments_lexer": "ipython3",
   "version": "3.12.1"
  }
 },
 "nbformat": 4,
 "nbformat_minor": 4
}
